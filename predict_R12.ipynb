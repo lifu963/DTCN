{
 "cells": [
  {
   "cell_type": "code",
   "execution_count": 1,
   "metadata": {},
   "outputs": [],
   "source": [
    "import pandas as pd\n",
    "import numpy as np\n",
    "import matplotlib.pyplot as plt\n",
    "import matplotlib as mpl\n",
    "from config import opt\n",
    "import models\n",
    "import joblib\n",
    "import torch\n",
    "from tqdm import tqdm\n",
    "mpl.rcParams['font.sans-serif'] = ['KaiTi']\n",
    "mpl.rcParams['font.serif'] = ['KaiTi']\n",
    "mpl.rcParams['axes.unicode_minus'] = False"
   ]
  },
  {
   "cell_type": "code",
   "execution_count": 2,
   "metadata": {},
   "outputs": [],
   "source": [
    "DAY_POINTS = 48"
   ]
  },
  {
   "cell_type": "code",
   "execution_count": 3,
   "metadata": {},
   "outputs": [],
   "source": [
    "test_data = pd.read_csv('./raw_data/test_data.csv')"
   ]
  },
  {
   "cell_type": "code",
   "execution_count": 4,
   "metadata": {},
   "outputs": [],
   "source": [
    "test_data['date'] = pd.to_datetime(test_data['date'])\n",
    "test_data = test_data.set_index('date')"
   ]
  },
  {
   "cell_type": "code",
   "execution_count": 5,
   "metadata": {},
   "outputs": [],
   "source": [
    "data_utility = joblib.load('./data_utility.pkl')"
   ]
  },
  {
   "cell_type": "code",
   "execution_count": 6,
   "metadata": {},
   "outputs": [],
   "source": [
    "feature_columns = data_utility.get_feature_columns()\n",
    "feature_index = data_utility.get_feature_index()"
   ]
  },
  {
   "cell_type": "code",
   "execution_count": 7,
   "metadata": {},
   "outputs": [],
   "source": [
    "model = models.DTCN(feature_columns=feature_columns,feature_index=feature_index,\n",
    "                    dnn_hidden_units=opt.dnn_hidden_units,window_size=opt.WINDOW_SIZE,\n",
    "                    output_size=opt.out_size,residual_size=opt.residual_size,\n",
    "                    skip_size=opt.skip_size,dilation_cycles=opt.dilation_cycles,\n",
    "                    dilation_depth=opt.dilation_depth)"
   ]
  },
  {
   "cell_type": "code",
   "execution_count": 9,
   "metadata": {},
   "outputs": [],
   "source": [
    "model.load('./models/checkpoints/DTCN2_P12.pth')"
   ]
  },
  {
   "cell_type": "code",
   "execution_count": 10,
   "metadata": {},
   "outputs": [],
   "source": [
    "def val(model,data_utility,test_X,test_Y):\n",
    "    model.eval()\n",
    "    \n",
    "    total_loss = 0\n",
    "    total_pred_loss = 0\n",
    "    \n",
    "    for i,(data,label) in tqdm(enumerate(data_utility.get_batches(test_X,test_Y,opt.batch_size))):\n",
    "        inputs = data\n",
    "        targets = label\n",
    "        \n",
    "        preds = model(inputs)\n",
    "        preds = preds.squeeze(2)\n",
    "        \n",
    "        loss = torch.mean(torch.pow(targets-preds,2))\n",
    "        total_loss += loss\n",
    "        \n",
    "        true_label = targets[:,-DAY_POINTS:]\n",
    "        pred_label = preds[:,-DAY_POINTS:]\n",
    "        \n",
    "        pred_loss = torch.mean(torch.pow(targets[:,-48:]-preds[:,-48:],2))\n",
    "        total_pred_loss += pred_loss\n",
    "    \n",
    "    model.train()\n",
    "    \n",
    "    return total_loss/(i+1),total_pred_loss/(i+1)"
   ]
  },
  {
   "cell_type": "code",
   "execution_count": 11,
   "metadata": {},
   "outputs": [],
   "source": [
    "def load_test_X_Y(data,data_utility):\n",
    "    data = data.copy()\n",
    "#     data.drop(columns=['date'],inplace=True)\n",
    "    \n",
    "    scaler = data_utility.get_scaler()\n",
    "    lbes = data_utility.get_lbes()\n",
    "    \n",
    "    data[opt.dense_features] = scaler.transform(data[opt.dense_features])\n",
    "    for feat in opt.sparse_features:\n",
    "        data[feat] = lbes[feat].transform(data[feat])\n",
    "    y_data = data[opt.target].values\n",
    "    \n",
    "    data = data_utility.build_dataset(data)\n",
    "    X,Y = data_utility.build_X_Y(data,y_data,opt.P,opt.WINDOW_SIZE)\n",
    "    return X,Y"
   ]
  },
  {
   "cell_type": "code",
   "execution_count": 11,
   "metadata": {},
   "outputs": [],
   "source": [
    "test_X,test_Y = load_test_X_Y(test_data,data_utility)"
   ]
  },
  {
   "cell_type": "code",
   "execution_count": 187,
   "metadata": {
    "scrolled": true
   },
   "outputs": [
    {
     "name": "stderr",
     "output_type": "stream",
     "text": [
      "221it [00:06, 36.22it/s]\n"
     ]
    }
   ],
   "source": [
    "loss,pred_loss = val(model,data_utility,test_X,test_Y)"
   ]
  },
  {
   "cell_type": "code",
   "execution_count": 188,
   "metadata": {},
   "outputs": [
    {
     "data": {
      "text/plain": [
       "tensor(0.0544, grad_fn=<DivBackward0>)"
      ]
     },
     "execution_count": 188,
     "metadata": {},
     "output_type": "execute_result"
    }
   ],
   "source": [
    "loss"
   ]
  },
  {
   "cell_type": "code",
   "execution_count": 189,
   "metadata": {
    "scrolled": true
   },
   "outputs": [
    {
     "data": {
      "text/plain": [
       "tensor(0.0529, grad_fn=<DivBackward0>)"
      ]
     },
     "execution_count": 189,
     "metadata": {},
     "output_type": "execute_result"
    }
   ],
   "source": [
    "pred_loss"
   ]
  },
  {
   "cell_type": "markdown",
   "metadata": {},
   "source": [
    "预测"
   ]
  },
  {
   "cell_type": "code",
   "execution_count": 35,
   "metadata": {},
   "outputs": [],
   "source": [
    "def predict(data,history_time,pred_time,data_utility,opt,model):\n",
    "    history_data = test_data[history_time:pred_time].copy()\n",
    "    history_data.reset_index(inplace=True,drop=True)\n",
    "    true_label = test_data[pred_time:pred_time]['Power'].values\n",
    "    \n",
    "    scaler = data_utility.get_scaler()\n",
    "    lbes = data_utility.get_lbes()\n",
    "    history_data[opt.dense_features] = scaler.transform(history_data[opt.dense_features])\n",
    "    for feat in opt.sparse_features:\n",
    "        history_data[feat] = lbes[feat].transform(history_data[feat])\n",
    "    history_data = data_utility.build_dataset(history_data)\n",
    "    \n",
    "    pred_label = torch.zeros(DAY_POINTS)\n",
    "    model.eval()\n",
    "    with torch.no_grad():\n",
    "        for i in range(int(DAY_POINTS/opt.P)):\n",
    "            inputs = torch.from_numpy(history_data[i*opt.P:opt.WINDOW_SIZE+i*opt.P]).unsqueeze(0)\n",
    "            inputs = inputs.type(torch.FloatTensor)\n",
    "            pred = model(inputs)\n",
    "            pred_label[i*opt.P:(i+1)*opt.P] = pred[0,-opt.P:,0]\n",
    "#             if(i!=int(DAY_POINTS/opt.P)-1):\n",
    "#                 history_data[opt.WINDOW_SIZE+i*opt.P:opt.WINDOW_SIZE+(i+1)*opt.P,-1]=pred[0,-opt.P:,0]\n",
    "    \n",
    "    pred_label = pred_label.numpy()\n",
    "    preds = np.zeros([48,5])\n",
    "    preds[:,-1] = pred_label\n",
    "    pred_label = scaler.inverse_transform(preds)[:,-1]\n",
    "    mape = (np.abs(pred_label-true_label)/true_label).mean()*100\n",
    "    print(mape)\n",
    "    \n",
    "    plt.title(\"下一时刻预测负荷图\")\n",
    "    plt.plot(true_label,c='r',label='true')\n",
    "    plt.plot(pred_label,c='b',label='pred')\n",
    "    plt.legend(loc='best')\n",
    "    plt.show()"
   ]
  },
  {
   "cell_type": "code",
   "execution_count": 36,
   "metadata": {},
   "outputs": [],
   "source": [
    "history_time = '2010-12-13'\n",
    "pred_time = '2010-12-16'"
   ]
  },
  {
   "cell_type": "code",
   "execution_count": 37,
   "metadata": {},
   "outputs": [
    {
     "name": "stdout",
     "output_type": "stream",
     "text": [
      "3.7883110749409035\n"
     ]
    },
    {
     "data": {
      "image/png": "[encoded data removed]",
      "text/plain": [
       "<Figure size 432x288 with 1 Axes>"
      ]
     },
     "metadata": {
      "needs_background": "light"
     },
     "output_type": "display_data"
    }
   ],
   "source": [
    "predict(test_data,history_time,pred_time,data_utility,opt,model)"
   ]
  }
 ],
 "metadata": {
  "kernelspec": {
   "display_name": "Python 3",
   "language": "python",
   "name": "python3"
  },
  "language_info": {
   "codemirror_mode": {
    "name": "ipython",
    "version": 3
   },
   "file_extension": ".py",
   "mimetype": "text/x-python",
   "name": "python",
   "nbconvert_exporter": "python",
   "pygments_lexer": "ipython3",
   "version": "3.7.6"
  }
 },
 "nbformat": 4,
 "nbformat_minor": 4
}
